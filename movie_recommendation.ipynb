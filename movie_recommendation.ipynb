{
  "nbformat": 4,
  "nbformat_minor": 0,
  "metadata": {
    "colab": {
      "provenance": [],
      "authorship_tag": "ABX9TyPOgq9rf7seNHKZzLxGENBt",
      "include_colab_link": true
    },
    "kernelspec": {
      "name": "python3",
      "display_name": "Python 3"
    },
    "language_info": {
      "name": "python"
    }
  },
  "cells": [
    {
      "cell_type": "markdown",
      "metadata": {
        "id": "view-in-github",
        "colab_type": "text"
      },
      "source": [
        "<a href=\"https://colab.research.google.com/github/Fayaz0403/CODSOFT/blob/main/movie_recommendation.ipynb\" target=\"_parent\"><img src=\"https://colab.research.google.com/assets/colab-badge.svg\" alt=\"Open In Colab\"/></a>"
      ]
    },
    {
      "cell_type": "code",
      "execution_count": 2,
      "metadata": {
        "colab": {
          "base_uri": "https://localhost:8080/"
        },
        "id": "8lO5S3qR3R1V",
        "outputId": "2d215ce4-3caa-4f7e-b419-e0ea634b1dcb"
      },
      "outputs": [
        {
          "output_type": "stream",
          "name": "stdout",
          "text": [
            "Recommended movies for User1: [('Movie3', 4.0), ('Movie4', 3.210292112499448)]\n"
          ]
        }
      ],
      "source": [
        "import numpy as np\n",
        "import pandas as pd\n",
        "from sklearn.metrics.pairwise import cosine_similarity\n",
        "from sklearn.neighbors import NearestNeighbors\n",
        "\n",
        "# Sample data: user ratings matrix\n",
        "# Rows represent users, and columns represent movies\n",
        "ratings = {\n",
        "    'User1': [5, 4, 0, 0, 3],\n",
        "    'User2': [4, 0, 0, 2, 1],\n",
        "    'User3': [1, 2, 4, 0, 5],\n",
        "    'User4': [0, 3, 0, 5, 4],\n",
        "    'User5': [0, 0, 5, 4, 0],\n",
        "}\n",
        "\n",
        "ratings_df = pd.DataFrame(ratings, index=['Movie1', 'Movie2', 'Movie3', 'Movie4', 'Movie5'])\n",
        "\n",
        "# Compute cosine similarity between users\n",
        "user_similarity = cosine_similarity(ratings_df.T)\n",
        "user_similarity_df = pd.DataFrame(user_similarity, index=ratings_df.columns, columns=ratings_df.columns)\n",
        "\n",
        "# Predict ratings for a specific user\n",
        "def predict_ratings(user_id):\n",
        "    user_ratings = ratings_df[user_id]\n",
        "    sim_scores = user_similarity_df[user_id]\n",
        "\n",
        "    predicted_ratings = []\n",
        "    for movie in ratings_df.index:\n",
        "        if user_ratings[movie] == 0:\n",
        "            movie_ratings = ratings_df.loc[movie]\n",
        "            pred_rating = np.dot(movie_ratings, sim_scores) / np.sum(sim_scores[movie_ratings > 0])\n",
        "            predicted_ratings.append((movie, pred_rating))\n",
        "\n",
        "    return sorted(predicted_ratings, key=lambda x: x[1], reverse=True)\n",
        "\n",
        "# Example usage: Recommend movies to User1\n",
        "recommendations = predict_ratings('User1')\n",
        "print(\"Recommended movies for User1:\", recommendations)\n"
      ]
    }
  ]
}